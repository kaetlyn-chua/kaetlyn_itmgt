{
 "cells": [
  {
   "cell_type": "code",
   "execution_count": 5,
   "id": "e200a445-84e7-4c09-98e4-0206e171014d",
   "metadata": {},
   "outputs": [],
   "source": [
    "#Programming Set 1\n",
    "#This assignment will familiarize you with Python's basics."
   ]
  },
  {
   "cell_type": "code",
   "execution_count": 3,
   "id": "9b39f02f-8643-4800-89c2-f4b885fb1cf4",
   "metadata": {},
   "outputs": [],
   "source": [
    "#Savings\n",
    "def savings(gross_pay, tax_rate, expenses):\n",
    "    return round((gross_pay)-((gross_pay)*tax_rate)-expenses)"
   ]
  },
  {
   "cell_type": "code",
   "execution_count": 5,
   "id": "1edecbeb-6aec-464a-8bea-b58c9217b51e",
   "metadata": {},
   "outputs": [],
   "source": [
    "#Material Waste\n",
    "def material_waste(total_material, material_units, num_jobs, job_consumption):\n",
    "    return(str(total_material-num_jobs*job_consumption)+material_units)"
   ]
  },
  {
   "cell_type": "code",
   "execution_count": 7,
   "id": "d836da91-f727-47d2-a8b1-6879ce4089f1",
   "metadata": {},
   "outputs": [],
   "source": [
    "#Interest\n",
    "def interest(principal, rate, periods):\n",
    "    import math\n",
    "    return(math.floor(principal+(principal*rate*periods)))"
   ]
  }
 ],
 "metadata": {
  "kernelspec": {
   "display_name": "Python 3 (ipykernel)",
   "language": "python",
   "name": "python3"
  },
  "language_info": {
   "codemirror_mode": {
    "name": "ipython",
    "version": 3
   },
   "file_extension": ".py",
   "mimetype": "text/x-python",
   "name": "python",
   "nbconvert_exporter": "python",
   "pygments_lexer": "ipython3",
   "version": "3.11.7"
  }
 },
 "nbformat": 4,
 "nbformat_minor": 5
}
