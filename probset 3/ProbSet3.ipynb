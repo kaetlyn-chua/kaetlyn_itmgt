{
 "cells": [
  {
   "cell_type": "code",
   "execution_count": 337,
   "id": "6a12e1ee-4a72-440b-a76d-793fb0a5b004",
   "metadata": {},
   "outputs": [],
   "source": [
    "#Programming Set 3\n",
    "#This assignment will develop your ability to manipulate data."
   ]
  },
  {
   "cell_type": "code",
   "execution_count": 335,
   "id": "5681f6c0-0d95-4aac-b26e-105d238714c5",
   "metadata": {},
   "outputs": [],
   "source": [
    "#Relationship Status.\n",
    "\n",
    "def relationship_status(from_member, to_member, social_graph):\n",
    "        if from_member in social_graph[to_member][\"following\"] and to_member in social_graph[from_member][\"following\"]:\n",
    "            return(\"friends\")\n",
    "\n",
    "        elif from_member in social_graph[to_member][\"following\"]:\n",
    "            return(\"followed by\")\n",
    "\n",
    "        elif to_member in social_graph[from_member][\"following\"]:\n",
    "            return(\"follower\")\n",
    "\n",
    "        else:\n",
    "            return(\"no relationship\")"
   ]
  },
  {
   "cell_type": "code",
   "execution_count": 333,
   "id": "61ef36d0-f0fb-4fb1-b30c-af494b079b78",
   "metadata": {},
   "outputs": [],
   "source": [
    "#Tic Tac Toe.\n",
    "\n",
    "def tic_tac_toe(board):\n",
    "    m=0\n",
    "    o=[]\n",
    "    x=[]\n",
    "    while m < len(board):\n",
    "        o+=\"O\"\n",
    "        x+=\"X\"\n",
    "        m+=1\n",
    "    #HORIZONTALS\n",
    "    for i in board:\n",
    "        if i == x:\n",
    "            return(\"X\")\n",
    "        elif i == o:\n",
    "            return(\"O\")\n",
    "            \n",
    "\n",
    "    #VERTICALS\n",
    "    vertboard=[]\n",
    "    for i in range(0, len(board)):\n",
    "        vertline=[]\n",
    "        for j in range(0, len(board)):\n",
    "            vertline+=([board[j][i]])\n",
    "            \n",
    "        vertboard.append(vertline)\n",
    "    if x in vertboard:\n",
    "        return(\"X\")\n",
    "    elif o in vertboard:\n",
    "        return(\"O\")\n",
    "\n",
    "    #DIAGONALS\n",
    "    dialine=[]\n",
    "    rdialine=[]\n",
    "    line=[]\n",
    "    rline=[]\n",
    "    for i in range(0, len(board)):\n",
    "        line+=board[i][i]\n",
    "        dialine.append(line)\n",
    "    for j in range(0, len(board)):\n",
    "        rline+=board[j][len(board)-1-j]\n",
    "        dialine.append(rline)\n",
    "    diagonals=dialine+rdialine\n",
    "    if x in diagonals:\n",
    "        return(\"X\")\n",
    "    elif o in diagonals:\n",
    "        return(\"O\")\n",
    "    else:\n",
    "        return(\"NO WINNER\")"
   ]
  },
  {
   "cell_type": "code",
   "execution_count": 331,
   "id": "f5d9d3ba-428f-44c6-a104-f8737fcafe2f",
   "metadata": {},
   "outputs": [],
   "source": [
    "#ETA.\n",
    "\n",
    "def eta(first_stop, second_stop, route_map):\n",
    "    klist=[]\n",
    "    for key in route_map:\n",
    "        klist+=(list(key))\n",
    "    startlist=klist[0::2]\n",
    "    startdex=startlist.index(first_stop)\n",
    "    endlist=klist[1::2]\n",
    "    enddex=endlist.index(second_stop)\n",
    "    time=0\n",
    "    if startdex<=enddex:\n",
    "        for i in range(startdex,enddex+1):\n",
    "            time+=route_map[startlist[i],endlist[i]]['travel_time_mins']\n",
    "    elif startdex>enddex:\n",
    "        for i in range(0,enddex+1):\n",
    "            time+=route_map[startlist[i],endlist[i]]['travel_time_mins']\n",
    "        for j in range(startdex,len(route_map)):\n",
    "            time+=route_map[startlist[j],endlist[j]]['travel_time_mins']\n",
    "            \n",
    "    return(time)"
   ]
  }
 ],
 "metadata": {
  "kernelspec": {
   "display_name": "Python 3 (ipykernel)",
   "language": "python",
   "name": "python3"
  },
  "language_info": {
   "codemirror_mode": {
    "name": "ipython",
    "version": 3
   },
   "file_extension": ".py",
   "mimetype": "text/x-python",
   "name": "python",
   "nbconvert_exporter": "python",
   "pygments_lexer": "ipython3",
   "version": "3.11.7"
  }
 },
 "nbformat": 4,
 "nbformat_minor": 5
}
